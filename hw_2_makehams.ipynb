{
 "cells": [
  {
   "cell_type": "code",
   "execution_count": 1,
   "id": "cca1b7a4-6342-4ae4-a5da-fc680334c075",
   "metadata": {},
   "outputs": [
    {
     "data": {
      "text/plain": [
       "2.718281828459045"
      ]
     },
     "execution_count": 1,
     "metadata": {},
     "output_type": "execute_result"
    }
   ],
   "source": [
    "import numpy as np\n",
    "import pandas as pd\n",
    "np.e"
   ]
  },
  {
   "cell_type": "code",
   "execution_count": 2,
   "id": "5f916e49-8933-4f05-b7c1-52c1b82c909b",
   "metadata": {},
   "outputs": [],
   "source": [
    "A = .0001234 \n",
    "B = .000004\n",
    "c = 1.122"
   ]
  },
  {
   "cell_type": "code",
   "execution_count": 3,
   "id": "7849e967-7293-4762-b503-50276c04a5ea",
   "metadata": {},
   "outputs": [],
   "source": [
    "pd.set_option('display.float_format', lambda x: '%.4f' % x)"
   ]
  },
  {
   "cell_type": "code",
   "execution_count": 4,
   "id": "3a4d1b04-5c8f-4002-9437-a885b4bde20b",
   "metadata": {},
   "outputs": [],
   "source": [
    "class makehams:\n",
    "    def __init__(self, a, b, c, l_0 = 1_000_000, w = 120):\n",
    "        self.a = a\n",
    "        self.b = b\n",
    "        self.c = c\n",
    "        self.l_0 = l_0\n",
    "        self.w = w\n",
    "        \n",
    "    def mu (self, x): \n",
    "        mu_x = self.a + self.b * self.c ** x\n",
    "        return mu_x\n",
    "        \n",
    "    def S (self, x):\n",
    "        a = self.a; b = self.b; c = self.c\n",
    "        s_x = np.e ** ( - (a * x) - ( b * (c ** x) - b ) / np.log(c) )\n",
    "        return s_x\n",
    "                   \n",
    "    def q (self, x, t, u):\n",
    "        tbaru_q_x = ( self.S(x + t) - self.S(x + t + u) ) / self.S(x)\n",
    "        if x + t + u >= 121:\n",
    "            tbaru_q_x = 1\n",
    "        return tbaru_q_x\n",
    "        \n",
    "    def p (self, x,t):\n",
    "        a = self.a; b = self.b; c = self.c\n",
    "        t_p_x = np.e ** ( -a * t - b/np.log(c) * c ** x * (c ** t - 1) ) \n",
    "        return t_p_x\n",
    "        \n",
    "    def l (self, x, t):\n",
    "        l_x = self.l_0 * p(self, x, t)\n",
    "        return l_x\n",
    "        \n",
    "    def t_p_x_list (self, x):\n",
    "        \"\"\"return list of consecutive t_p_x values\"\"\"\n",
    "        w = self.w\n",
    "        next_age = int(x + 1)\n",
    "        tps = {}\n",
    "        # ps[x] = self.p(x, next_age-x)\n",
    "        \n",
    "        for t in range (0, w - next_age + 1):\n",
    "            tps[f'{np.round(t + (next_age - x),2)}_p_{x}'] = self.p(x, t + (next_age - x))\n",
    "            \n",
    "        tps[f'{np.round(w - x + 1,2)}_p_{x}'] = 0\n",
    "        return tps\n",
    "\n",
    "    def p_x_list (self, x):\n",
    "        w = self.w\n",
    "        next_age = int(x + 1)\n",
    "        ps = {}\n",
    "        ps[f'p_{x}'] = self.p(x, next_age - x)\n",
    "        for t in range (0, w - next_age):\n",
    "            ps[f'p_{next_age + t}'] = self.p(next_age + t, 1)\n",
    "        ps[f'p_{w}'] = 0\n",
    "        return ps\n",
    "        \n",
    "    def mu_x_list(self,x):\n",
    "        return {f'mu_{x + t}': self.mu(x+t) for t in range(0,self.w - x + 1)}\n",
    "        \n",
    "    def q_x_list(self, x):\n",
    "        return {f'q_{x + t}': self.q(x + t, 0, 1) for \n",
    "                t in range(0, self.w - x + 1)}\n",
    "        \n",
    "    def l_x_list(self,x):\n",
    "        return dict(zip(\n",
    "            [f'l_{x+t}' for t in range(0, self.w - x + 1)],\n",
    "            self.l_0*np.array([1] + list(self.t_p_x_list(x).values())[:-1])\n",
    "        ))\n",
    "        \n",
    "    def e_x_list(self, x):\n",
    "        w = self.w\n",
    "        next_age = int(x + 1)\n",
    "        curt_life_list = {}\n",
    "        curt_life_list[f'e_{x}'] = sum(list(self.t_p_x_list(x).values()))\n",
    "        for t in range(0, w - next_age + 1):                                    \n",
    "            curt_life_list[f'e_{next_age+t}'] = \\\n",
    "                                        sum(list(\n",
    "                                        self.t_p_x_list(next_age+t).values()))\n",
    "        return curt_life_list\n",
    "\n",
    "    def stats_table(self, x):\n",
    "        table = pd.DataFrame({\n",
    "            'mu_x': self.mu_x_list(x).values(),\n",
    "            'p_x': self.p_x_list(x).values(),\n",
    "            'q_x': self.q_x_list(x).values(),\n",
    "            'l_x': self.l_x_list(x).values(),\n",
    "            'e_x': self.e_x_list(x).values()\n",
    "        }, index = list(range(x, self.w + 1))).round(4)\n",
    "        table.index.name = 'age'\n",
    "        return table\n",
    "mortality_model = makehams(A, B, c, 1_000_000)"
   ]
  },
  {
   "cell_type": "code",
   "execution_count": 5,
   "id": "7f881320-f210-4e76-a801-5263853dfe94",
   "metadata": {},
   "outputs": [],
   "source": [
    "mortality_model.stats_table(20).to_csv('./hw_2_python_soln.csv')"
   ]
  }
 ],
 "metadata": {
  "kernelspec": {
   "display_name": "Python 3 (ipykernel)",
   "language": "python",
   "name": "python3"
  },
  "language_info": {
   "codemirror_mode": {
    "name": "ipython",
    "version": 3
   },
   "file_extension": ".py",
   "mimetype": "text/x-python",
   "name": "python",
   "nbconvert_exporter": "python",
   "pygments_lexer": "ipython3",
   "version": "3.9.18"
  }
 },
 "nbformat": 4,
 "nbformat_minor": 5
}
