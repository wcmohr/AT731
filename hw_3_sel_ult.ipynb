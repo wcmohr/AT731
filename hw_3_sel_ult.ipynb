{
 "cells": [
  {
   "cell_type": "code",
   "execution_count": 1,
   "id": "6e5c38ca-205e-4706-b42a-2dc388cc8b95",
   "metadata": {},
   "outputs": [],
   "source": [
    "import numpy as np\n",
    "import pandas as pd"
   ]
  },
  {
   "cell_type": "code",
   "execution_count": 2,
   "id": "696a419c-7005-4b9f-8741-36692fb00800",
   "metadata": {},
   "outputs": [],
   "source": [
    "A = .0001234 \n",
    "B = .000004\n",
    "c = 1.122"
   ]
  },
  {
   "cell_type": "code",
   "execution_count": 3,
   "id": "166071cb-5853-4fd8-8a3d-4ddb286cba16",
   "metadata": {},
   "outputs": [],
   "source": [
    "pd.set_option('display.float_format', lambda x: '%.4f' % x)"
   ]
  },
  {
   "cell_type": "code",
   "execution_count": 134,
   "id": "f9699bc4-82b7-4bf9-9721-f67d693dedb6",
   "metadata": {},
   "outputs": [],
   "source": [
    "class makehams:\n",
    "    def __init__(self, a, b, c, l_0 = 1_000_000, w = 120, \n",
    "                 select = {0:.5, 1:.75}):\n",
    "        self.a = a\n",
    "        self.b = b\n",
    "        self.c = c\n",
    "        self.l_0 = l_0\n",
    "        self.w = w\n",
    "        self.select = select\n",
    "        self.mu_list = pd.Series({age:self.mu(age) for age in range(0, w+1)})\n",
    "        self.S_list = pd.Series({age:self.S(age) for age in range(0, w+1)})\n",
    "        self.q_list = pd.Series({age:self.q(age,0,1) for age in range(0, w+1)})\n",
    "        self.p_list = pd.Series({age:self.p(0, age) for age in range(0, w+1)})\n",
    "        self.l_list = pd.Series({age:self.l(age) for age in range(0, w+1)})\n",
    "        self.e_list = pd.Series({age:self.l(age) for age in range(0, w+1)})\n",
    "        \n",
    "    def mu (self, x): \n",
    "        mu_x = self.a + self.b * self.c ** x\n",
    "        return mu_x\n",
    "        \n",
    "    def S (self, x):\n",
    "        a = self.a; b = self.b; c = self.c\n",
    "        s_x = np.e ** ( - (a * x) - ( b * (c ** x) - b ) / np.log(c) )\n",
    "        return s_x\n",
    "                   \n",
    "    def q (self, x, t, u):\n",
    "        tbaru_q_x = ( self.S(x + t) - self.S(x + t + u) ) / self.S(x)\n",
    "        if x + t + u >= 121:\n",
    "            tbaru_q_x = 1\n",
    "        return tbaru_q_x\n",
    "        \n",
    "    def p (self, x,t):\n",
    "        a = self.a; b = self.b; c = self.c\n",
    "        t_p_x = np.e ** ( -a * t - b/np.log(c) * c ** x * (c ** t - 1) ) \n",
    "        return t_p_x\n",
    "        \n",
    "    def l (self, x):\n",
    "        l_x = self.l_0 * self.p(0, x)\n",
    "        return l_x\n",
    "        \n",
    "    def t_p_x_list (self, x):\n",
    "        \"\"\"return list of consecutive t_p_x values\"\"\"\n",
    "        w = self.w\n",
    "        next_age = int(x + 1)\n",
    "        tps = {}\n",
    "        for t in range (0, w - next_age + 1):\n",
    "            tps[f'{np.round(t + (next_age - x),2)}_p_{x}'] = \\\n",
    "            self.p(x, t + (next_age - x))\n",
    "            \n",
    "        tps[f'{np.round(w - x + 1, 2)}_p_{x}'] = 0\n",
    "        return tps\n",
    "\n",
    "    def p_x_list (self, x):\n",
    "        w = self.w\n",
    "        next_age = int(x + 1)\n",
    "        ps = {}\n",
    "        ps[f'p_{x}'] = self.p(x, next_age - x)\n",
    "        for t in range (0, w - next_age):\n",
    "            ps[f'p_{next_age + t}'] = self.p(next_age + t, 1)\n",
    "        ps[f'p_{w}'] = 0\n",
    "        return ps\n",
    "        \n",
    "    def mu_x_list(self,x):\n",
    "        return {f'mu_{x + t}': self.mu(x+t) for t in range(0,self.w - x + 1)}\n",
    "        \n",
    "    def q_x_list(self, x):\n",
    "        return {f'q_{x + t}': self.q(x + t, 0, 1) for \n",
    "                t in range(0, self.w - x + 1)}\n",
    "        \n",
    "    def l_x_list(self, x):\n",
    "        return dict(zip(\n",
    "            [f'l_{x+t}' for t in range(0, self.w - x + 1)],\n",
    "            self.l_0*np.array([1] + list(self.t_p_x_list(x).values())[:-1])\n",
    "        ))\n",
    "    def e_x(self, x):\n",
    "        return sum(list(self.t_p_x_list(x).values()))\n",
    "        \n",
    "    def e_x_list(self, x):\n",
    "        w = self.w\n",
    "        next_age = int(x + 1)\n",
    "        curt_life_list = {}\n",
    "        curt_life_list[f'e_{x}'] = self.e_x(x)\n",
    "        \n",
    "        for t in range(0, w - next_age + 1):                                    \n",
    "            curt_life_list[f'e_{next_age+t}'] = \\\n",
    "                                        sum(list(\n",
    "                                        self.t_p_x_list(next_age+t).values()))\n",
    "        return curt_life_list\n",
    "\n",
    "    \n",
    "        \n",
    "    def stats_table(self, x):\n",
    "        table = pd.DataFrame({\n",
    "            'mu_x': self.mu_x_list(x).values(),\n",
    "            'p_x': self.p_x_list(x).values(),\n",
    "            'q_x': self.q_x_list(x).values(),\n",
    "            'l_x': self.l_x_list(x).values(),\n",
    "            'e_x': self.e_x_list(x).values()\n",
    "        }, index = list(range(x, self.w + 1))).round(4)\n",
    "        table.index.name = 'age'\n",
    "        return table\n",
    "        \n",
    "    def q_select(self, x):\n",
    "        return {f'q[x]{s}': self.q(x,0,1)*mod if x < self.w else 1 for \n",
    "                s, mod in self.select.items()}\n",
    "    def p_select(self, x):\n",
    "        q_sel = self.q_select(x)\n",
    "        return {f'p[x]{s}': 1 - q_sel[f'q[x]{s}']\n",
    "               for s in self.select.keys()}\n",
    "    # def e_x_select(age, select_yr):\n",
    "    #     table = self.l_select_ult_table(age-select_yr)\n",
    "    #     initial_lives = table.loc[age - select_yr,select_yr]\n",
    "    #     table.loc[age,]             \n",
    "    def p_select_table(self, min_age):\n",
    "        sel_len = len(self.select)\n",
    "        table = pd.concat([\n",
    "            # there will be a 'square' of nan values \n",
    "            pd.DataFrame.from_dict(data = { leadup_yr: \n",
    "                        [np.nan]*sel_len for leadup_yr in \n",
    "         range(min_age-sel_len,min_age)}, orient = 'index'), \n",
    "            \n",
    "            # pselect values for each year\n",
    "            pd.DataFrame.from_dict({x: self.p_select(x).values() for x in \n",
    "         range(min_age, self.w + 1)}, orient = 'index')])\n",
    "        table.columns = ['p[x]' if sel_yr==0 else f'p[x]+{sel_yr}' for sel_yr in self.select]\n",
    "        return table\n",
    "\n",
    "    def l_select_ult_table(self, min_age):\n",
    "        select_len = len(self.select.keys())\n",
    "        sel_index = list(range(min_age-select_len, self.w+1))\n",
    "        sel_col_names = ['l[x]' if sel_yr == 0 else f'l[x]+{sel_yr}' \n",
    "                         for sel_yr in self.select.keys()]\n",
    "        ult_col_name = f'lx+{select_len}'\n",
    "        \n",
    "        ult_col = pd.Series(\n",
    "                    data = list(self.l_x_list(min_age - select_len).values()),\n",
    "                    index = sel_index, name = f'lx+{select_len}')\n",
    "        \n",
    "        sel_columns = self.p_select_table(min_age).cumprod(axis='columns').loc[:,::-1].rdiv(\n",
    "            ult_col.values, axis = 0)\n",
    "        table = pd.concat([sel_columns, ult_col], axis = 1)\n",
    "        table.columns = sel_col_names + [ult_col_name]\n",
    "        \n",
    "       \n",
    "        # pd.Series(self.l_x_list(min_age - len(self.select.keys()))).values\n",
    "        # table[sel_columns] = self.p_select_table(min_age).cumprod(\n",
    "        #     axis = 'columns').mul(pd.Series(self.l_x_list(min_age)).values, \n",
    "        #                         axis = 'index').values\n",
    "        # table.index = list(range(min_age,self.w+1))\n",
    "        return table\n",
    "        \n",
    "    def q_select_table(self,min_age):\n",
    "        sel_len = len(self.select)\n",
    "        table = pd.concat([\n",
    "            # there will be a 'square' of nan values \n",
    "            pd.DataFrame.from_dict(data = { leadup_yr: \n",
    "                        [np.nan]*sel_len for leadup_yr in \n",
    "         range(min_age-sel_len,min_age)}, orient = 'index'), \n",
    "            \n",
    "            # pselect values for each year\n",
    "            pd.DataFrame.from_dict({x: self.q_select(x).values() for x in \n",
    "         range(min_age, self.w + 1)}, orient = 'index')])\n",
    "        table.columns = ['q[x]' if sel_yr==0 else f'q[x]+{sel_yr}' for sel_yr in self.select]\n",
    "        return table\n",
    "        # return pd.DataFrame.from_dict(\n",
    "        #     {x: self.q_select(x) for x in \n",
    "        #      range(0, self.w + 1)}, orient = 'index')\n",
    "    def e_x_select(self, age, sel_yr):\n",
    "        select_ps = self.p_select_table(age-sel_yr).loc[\n",
    "         age-sel_yr, self.p_select_table(age).columns[range(sel_yr, len(self.select))]]\n",
    "        ultimate_ps = list(self.p_x_list(age+len(self.select)-sel_yr).values())\n",
    "        \n",
    "        return sum(np.cumprod(np.concatenate((select_ps, ultimate_ps))))\n",
    "        \n",
    "    def e_x_select_table(self, min_age):\n",
    "        sel_len = len(self.select)\n",
    "        table = pd.concat([\n",
    "            # there will be a 'square' of nan values \n",
    "            pd.DataFrame.from_dict(data = {leadup_yr: \n",
    "                        [np.nan]*sel_len for leadup_yr in \n",
    "         range(min_age-sel_len,min_age)}, orient = 'index'), \n",
    "            \n",
    "            # pselect values for each year\n",
    "            pd.DataFrame.from_dict({x: [self.e_x_select(x - sel_yr,sel_yr) \n",
    "                for sel_yr in self.select] for x in range (min_age,self.w+1)},\n",
    "            orient = 'index')])\n",
    "        table.columns = ['e[x]' if sel_yr==0 else f'e[x]+{sel_yr}' for sel_yr in \n",
    "                         self.select]\n",
    "        return table\n",
    "        \n",
    "    def select_table(self, age):\n",
    "        return pd.concat([self.p_select_table(age), \n",
    "            self.q_select_table(age),self.l_select_ult_table(age),\n",
    "                         self.e_x_select_table(age)], axis=1).loc[age:,:]\n",
    "    def full_table(self,age):\n",
    "        return pd.concat((self.stats_table(age), self.select_table(age)),axis=1)\n",
    "mortality_model = makehams(A, B, c, 1_000_000)"
   ]
  },
  {
   "cell_type": "code",
   "execution_count": 125,
   "id": "568f08b5-44e8-40d3-8c41-d1d585897f83",
   "metadata": {},
   "outputs": [
    {
     "data": {
      "text/plain": [
       "62.45726289969898"
      ]
     },
     "execution_count": 125,
     "metadata": {},
     "output_type": "execute_result"
    }
   ],
   "source": [
    "mortality_model.e_x_select(21,1)"
   ]
  },
  {
   "cell_type": "code",
   "execution_count": 115,
   "id": "202a5e54-7ee4-4524-9363-6e286a858e3d",
   "metadata": {},
   "outputs": [
    {
     "data": {
      "text/plain": [
       "62.46267348465753"
      ]
     },
     "execution_count": 115,
     "metadata": {},
     "output_type": "execute_result"
    }
   ],
   "source": []
  },
  {
   "cell_type": "code",
   "execution_count": 136,
   "id": "da7cbc52-6155-4fea-bbf6-b4a513c634d8",
   "metadata": {},
   "outputs": [],
   "source": [
    "mortality_model.full_table(20).to_csv('./hw_3_solution_will_mohr.csv')"
   ]
  },
  {
   "cell_type": "code",
   "execution_count": 88,
   "id": "87d825ad-b186-4ba3-8619-f0b534ed57c5",
   "metadata": {},
   "outputs": [
    {
     "data": {
      "text/plain": [
       "(array([0.99991712, 0.99987568]),\n",
       " array([0.99982327, 0.99981676, 0.99980946, 0.99980126, 0.99979207,\n",
       "        0.99978176, 0.99977019, 0.99975721, 0.99974264, 0.9997263 ,\n",
       "        0.99970796, 0.99968739, 0.99966431, 0.99963841, 0.99960935,\n",
       "        0.99957675, 0.99954018, 0.99949914, 0.9994531 , 0.99940144,\n",
       "        0.99934349, 0.99927846, 0.99920551, 0.99912367, 0.99903185,\n",
       "        0.99892884, 0.99881328, 0.99868363, 0.99853818, 0.99837502,\n",
       "        0.99819198, 0.99798664, 0.99775631, 0.99749795, 0.99720814,\n",
       "        0.99688307, 0.99651847, 0.99610955, 0.99565095, 0.99513664,\n",
       "        0.9945599 , 0.9939132 , 0.99318811, 0.99237518, 0.99146386,\n",
       "        0.99044237, 0.9892975 , 0.98801453, 0.98657702, 0.98496663,\n",
       "        0.98316289, 0.98114304, 0.9788817 , 0.97635068, 0.97351866,\n",
       "        0.97035092, 0.96680898, 0.96285031, 0.95842798, 0.9534903 ,\n",
       "        0.9479805 , 0.9418364 , 0.93499011, 0.9273678 , 0.91888951,\n",
       "        0.90946911, 0.89901435, 0.88742711, 0.87460391, 0.86043674,\n",
       "        0.84481419, 0.8276231 , 0.80875079, 0.78808789, 0.76553191,\n",
       "        0.74099172, 0.71439289, 0.68568396, 0.65484371, 0.62188917,\n",
       "        0.58688433, 0.54994905, 0.51126768, 0.4710966 , 0.42976983,\n",
       "        0.38770129, 0.3453826 , 0.3033749 , 0.2622936 , 0.2227852 ,\n",
       "        0.1854962 , 0.15103528, 0.11993129, 0.09259101, 0.06926228,\n",
       "        0.05000851, 0.03470035, 0.02302826, 0.        ]))"
      ]
     },
     "execution_count": 88,
     "metadata": {},
     "output_type": "execute_result"
    }
   ],
   "source": [
    "\n",
    "(mortality_model.e_x_select(20,0)[0].values,\n",
    "mortality_model.e_x_select(20,0)[1])"
   ]
  },
  {
   "cell_type": "code",
   "execution_count": null,
   "id": "dd6b5072-60ee-4319-88b0-406049535be9",
   "metadata": {},
   "outputs": [],
   "source": [
    "mortality_model.p_select_table(20)"
   ]
  },
  {
   "cell_type": "code",
   "execution_count": null,
   "id": "6cb231e4-a7c0-41a6-a222-b278d712ff4f",
   "metadata": {},
   "outputs": [],
   "source": [
    "s = pd.Series(data = mortality_model.l_x_list(20).values(),index = range(20,mortality_model.w+1))\n",
    "# s.index = range(20,mortality_model.w+1)\n",
    "s"
   ]
  },
  {
   "cell_type": "code",
   "execution_count": null,
   "id": "8547c83e-6be6-4539-b4e9-0bb77308b56c",
   "metadata": {},
   "outputs": [],
   "source": [
    "mortality_model.p_select_table(20).cumprod(axis='columns')"
   ]
  },
  {
   "cell_type": "code",
   "execution_count": null,
   "id": "3d8df466-f2cf-4f93-bd5d-2600a5a17911",
   "metadata": {},
   "outputs": [],
   "source": [
    "mortality_model.q_selects(20)"
   ]
  },
  {
   "cell_type": "code",
   "execution_count": null,
   "id": "8d44530c-19b3-4ec3-a300-ff4490d4271f",
   "metadata": {},
   "outputs": [],
   "source": [
    "mortality_model"
   ]
  },
  {
   "cell_type": "code",
   "execution_count": null,
   "id": "b222dc4e-c844-40a8-bf3f-efd2c23bb3c5",
   "metadata": {},
   "outputs": [],
   "source": [
    "[(i,j) for i, j in enumerate([i**2 for i in range(0,5)])]"
   ]
  },
  {
   "cell_type": "code",
   "execution_count": null,
   "id": "a543f445-b6b1-439e-8bda-84ee3fc89724",
   "metadata": {},
   "outputs": [],
   "source": []
  },
  {
   "cell_type": "code",
   "execution_count": null,
   "id": "ebe850f1-099c-43dc-836a-9793e493b039",
   "metadata": {},
   "outputs": [],
   "source": [
    "mortality_model.stats_table(20).to_csv('./hw_2_python_soln.csv')"
   ]
  }
 ],
 "metadata": {
  "kernelspec": {
   "display_name": "Python 3 (ipykernel)",
   "language": "python",
   "name": "python3"
  },
  "language_info": {
   "codemirror_mode": {
    "name": "ipython",
    "version": 3
   },
   "file_extension": ".py",
   "mimetype": "text/x-python",
   "name": "python",
   "nbconvert_exporter": "python",
   "pygments_lexer": "ipython3",
   "version": "3.9.18"
  }
 },
 "nbformat": 4,
 "nbformat_minor": 5
}
